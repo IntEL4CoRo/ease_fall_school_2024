{
 "cells": [
  {
   "cell_type": "markdown",
   "id": "b44d1ce7-186f-4603-8363-cdd60f41bcfb",
   "metadata": {},
   "source": [
    "# Day 01 - Creating an Environment URDF\n",
    "\n",
    "In this tutorial, you'll learn how to create a simulation environment using URDF (Unified Robot Description Format).\n",
    "\n",
    "> Note: This tutorial assumes you know how to write well-formatted XML code"
   ]
  },
  {
   "cell_type": "markdown",
   "id": "dbb84683-57f4-4914-addd-9e74c3cdfff8",
   "metadata": {},
   "source": [
    "## 1. Three basic shapes"
   ]
  },
  {
   "cell_type": "markdown",
   "id": "d1e756e2-fbd9-4832-a412-7123f6eb5fe9",
   "metadata": {
    "jp-MarkdownHeadingCollapsed": true
   },
   "source": [
    "**Box**\n",
    "```xml\n",
    "<link name=\"box_1\">\n",
    "    <visual>\n",
    "        <geometry>\n",
    "            <box size=\"0.5 0.5 0.5\"/>\n",
    "        </geometry>\n",
    "        <origin rpy=\"0 0 0\" xyz=\"0 0 0\"/>\n",
    "    </visual>\n",
    "</link>\n",
    "```\n",
    "\n",
    "**Cylinder**\n",
    "```xml\n",
    "<link name=\"cylinder_1\">\n",
    "    <visual>\n",
    "        <geometry>\n",
    "            <cylinder length=\"1\" radius=\"0.1\"/>\n",
    "        </geometry>\n",
    "        <origin rpy=\"0 0 0\" xyz=\"0 0 0\"/>\n",
    "    </visual>\n",
    "</link>\n",
    "```\n",
    "\n",
    "**Sphere**\n",
    "```xml\n",
    "<link name=\"sphere_1\">\n",
    "    <visual>\n",
    "        <geometry>\n",
    "            <sphere radius=\"0.3\"/>\n",
    "        </geometry>\n",
    "        <origin rpy=\"0 0 0\" xyz=\"0 0 0\"/>\n",
    "    </visual>\n",
    "</link>\n",
    "```"
   ]
  },
  {
   "cell_type": "markdown",
   "id": "25e42c59-bfdf-4dc3-8830-1ea13fadb9fb",
   "metadata": {},
   "source": [
    "## 2. Create a joint\n"
   ]
  },
  {
   "cell_type": "markdown",
   "id": "fbcf04c6-b46f-460e-be20-c167d62a1f58",
   "metadata": {},
   "source": [
    "```xml\n",
    "<joint name=\"joint_box_cylinder\" type=\"revolute\">\n",
    "    <parent link=\"cylinder_1\"/>\n",
    "    <child link=\"box_1\"/>\n",
    "    <limit lower=\"0\" upper=\"1.57\"/>\n",
    "    <axis xyz=\"0 0 1\" /> \n",
    "    <origin rpy=\"0 0 0\" xyz=\"0 0 0\"/>\n",
    "</joint>\n",
    "\n",
    "<joint name=\"joint_box_cylinder\" type=\"prismatic\">\n",
    "  <parent link=\"cylinder_1\"/>\n",
    "  <child link=\"box_1\"/>\n",
    "  <limit lower=\"-0.38\" upper=\"0\"/>\n",
    "    <axis xyz=\"0 0 1\" /> \n",
    "  <origin rpy=\"0 0 0\" xyz=\"0 0 0\"/>\n",
    "</joint>\n",
    "```"
   ]
  },
  {
   "cell_type": "code",
   "execution_count": 6,
   "id": "92c49402-4a33-47de-8d53-4865fae9f521",
   "metadata": {},
   "outputs": [
    {
     "data": {
      "text/plain": [
       "1.5707963267948966"
      ]
     },
     "execution_count": 6,
     "metadata": {},
     "output_type": "execute_result"
    }
   ],
   "source": [
    "import math\n",
    "math.radians(90)"
   ]
  },
  {
   "cell_type": "markdown",
   "id": "b7ba6e48-747d-40a7-ba43-8882fdf5ddc5",
   "metadata": {},
   "source": [
    "## 3. Add Material"
   ]
  },
  {
   "cell_type": "markdown",
   "id": "76a505fd-3f5a-47f6-8ecc-fe99c0243049",
   "metadata": {},
   "source": [
    "```xml\n",
    "<material name=\"door\">\n",
    "    <color rgba=\"0.6, 0.396, 0.082\"/>\n",
    "</material>\n",
    "```\n",
    "\n",
    "```xml\n",
    "<link name=\"box_1\">\n",
    "    <visual>\n",
    "        <geometry>\n",
    "            <box size=\"0.1 1.5 1.5\"/>\n",
    "        </geometry>\n",
    "        <origin rpy=\"0 0 0\" xyz=\"0 0.75 0\"/>\n",
    "        <material name=\"door\"/>\n",
    "    </visual>\n",
    "</link>\n",
    "\n",
    "```"
   ]
  },
  {
   "cell_type": "markdown",
   "id": "0b655549-6997-4929-a0c4-9f237f7c94d4",
   "metadata": {},
   "source": [
    "## 4. Collision properties"
   ]
  },
  {
   "cell_type": "markdown",
   "id": "0bf255c6-97f4-434e-8fac-e2cc37b982ea",
   "metadata": {},
   "source": [
    "<link name=\"box_1\">\n",
    "    <visual>\n",
    "        <geometry>\n",
    "            <box size=\"0.1 1.5 1.5\"/>\n",
    "        </geometry>\n",
    "        <origin rpy=\"0 0 0\" xyz=\"0 0.75 0\"/>\n",
    "        <material name=\"door\"/>\n",
    "    </visual>\n",
    "</link>"
   ]
  },
  {
   "cell_type": "markdown",
   "id": "91e32e12-f0a1-4129-b735-558e1b55d713",
   "metadata": {},
   "source": [
    "```xml\n",
    "<link name=\"box_1\">\n",
    "    <visual>\n",
    "        <geometry>\n",
    "            <box size=\"0.1 1.5 1.5\"/>\n",
    "        </geometry>\n",
    "        <origin rpy=\"0 0 0\" xyz=\"0 0.75 0\"/>\n",
    "        <material name=\"door\"/>\n",
    "    </visual>\n",
    "    <collision>\n",
    "        <geometry>\n",
    "            <box size=\"0.1 1.5 1.5\"/>\n",
    "        </geometry>\n",
    "    </collision>\n",
    "</link>\n",
    "```\n",
    "\n",
    "```xml\n",
    "<inertial>\n",
    "    <mass value=\"10\"/>\n",
    "        <inertia ixx=\"1e-3\" ixy=\"0.0\" ixz=\"0.0\" iyy=\"1e-3\" iyz=\"0.0\" izz=\"1e-3\"/>\n",
    "    </inertial>\n",
    "```"
   ]
  },
  {
   "cell_type": "markdown",
   "id": "e1d6764e-34f1-4cf8-9589-bbc84be49e22",
   "metadata": {},
   "source": [
    "## Let's rebuild the kitchen lab"
   ]
  },
  {
   "cell_type": "markdown",
   "id": "7646f83c-2060-444a-8735-270b2f4792e4",
   "metadata": {},
   "source": [
    "[kitchen.urdf](./kitchen.urdf.xacro)"
   ]
  },
  {
   "cell_type": "markdown",
   "id": "61489b09-d170-4675-8b86-a2814af4c6da",
   "metadata": {},
   "source": [
    "## Further Exercies"
   ]
  },
  {
   "cell_type": "markdown",
   "id": "bd93cfcd-8f9f-413c-9d62-c2ffa7238ca0",
   "metadata": {
    "jp-MarkdownHeadingCollapsed": true
   },
   "source": [
    "### ROS2 URDF Tutorial\n",
    "Fetch the tutorial materials"
   ]
  },
  {
   "cell_type": "code",
   "execution_count": 3,
   "id": "7a069ab2-db50-491a-92c1-3d56c11f3ba5",
   "metadata": {},
   "outputs": [
    {
     "name": "stdout",
     "output_type": "stream",
     "text": [
      "Cloning into 'urdf_tutorial'...\n",
      "remote: Enumerating objects: 508, done.\u001b[K\n",
      "remote: Counting objects: 100% (18/18), done.\u001b[K\n",
      "remote: Compressing objects: 100% (12/12), done.\u001b[K\n",
      "remote: Total 508 (delta 12), reused 6 (delta 6), pack-reused 490 (from 1)\u001b[K\n",
      "Receiving objects: 100% (508/508), 1.81 MiB | 13.93 MiB/s, done.\n",
      "Resolving deltas: 100% (256/256), done.\n"
     ]
    }
   ],
   "source": [
    "!git clone https://github.com/ros/urdf_tutorial.git -b ros2\n",
    "!cp urdf_tutorial/urdf/* $PWD"
   ]
  },
  {
   "cell_type": "markdown",
   "id": "9a1ce72b-83fb-48dc-9ab0-488334a3e7ef",
   "metadata": {},
   "source": [
    "|  Tutorials |  Name | URDF File (click to open file)  |\n",
    "|---|---|---|\n",
    "| [Building a visual robot model from scratch](https://docs.ros.org/en/humble/Tutorials/Intermediate/URDF/Building-a-Visual-Robot-Model-with-URDF-from-Scratch.html) | One Shape | [01-myfirst.urdf](./01-myfirst.urdf) |\n",
    "|  |  Multiple Shapes  | [02-multipleshapes.urdf](./02-multipleshapes.urdf)  |\n",
    "|   |  Origins |  [03-origins.urdf.urdf](./03-origins.urdf.urdf) |\n",
    "|   |  Material |  [04-materials.urdf](./04-materials.urdf)|\n",
    "|   |  Completed Visual Model |  [05-visual.urdf](./05-visual.urdf) |\n",
    "|  [Building a movable robot model](https://docs.ros.org/en/humble/Tutorials/Intermediate/URDF/Building-a-Movable-Robot-Model-with-URDF.html) | Movable Robot Model |  [06-flexible.urdf](./06-flexible.urdf) |\n",
    "| [Adding physical and collision properties](https://docs.ros.org/en/humble/Tutorials/Intermediate/URDF/Adding-Physical-and-Collision-Properties-to-a-URDF-Model.html) |  Physical and Collision | [07-physics.urdf](./07-physics.urdf) |\n",
    "| [Using Xacro to clean up your code](https://docs.ros.org/en/humble/Tutorials/Intermediate/URDF/Using-Xacro-to-Clean-Up-a-URDF-File.html) |  Using Xacro |   [08-macroed.urdf.xacro](./08-macroed.urdf.xacro) |"
   ]
  },
  {
   "cell_type": "code",
   "execution_count": null,
   "id": "ae1ac8e3-316a-4cf3-bcfe-40fa2f84c755",
   "metadata": {},
   "outputs": [],
   "source": []
  }
 ],
 "metadata": {
  "kernelspec": {
   "display_name": "Python 3 (ipykernel)",
   "language": "python",
   "name": "python3"
  },
  "language_info": {
   "codemirror_mode": {
    "name": "ipython",
    "version": 3
   },
   "file_extension": ".py",
   "mimetype": "text/x-python",
   "name": "python",
   "nbconvert_exporter": "python",
   "pygments_lexer": "ipython3",
   "version": "3.11.5"
  }
 },
 "nbformat": 4,
 "nbformat_minor": 5
}
