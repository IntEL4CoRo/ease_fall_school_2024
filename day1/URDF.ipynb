{
 "cells": [
  {
   "cell_type": "markdown",
   "id": "b44d1ce7-186f-4603-8363-cdd60f41bcfb",
   "metadata": {},
   "source": [
    "# Day 01 - Creating an Environment URDF\n",
    "\n",
    "In this handson tutorial, you'll learn how to create a simulation environment using URDF (Unified Robot Description Format).\n",
    "\n",
    "> Note: This tutorial assumes you know how to write well-formatted XML code"
   ]
  },
  {
   "cell_type": "markdown",
   "id": "dbb84683-57f4-4914-addd-9e74c3cdfff8",
   "metadata": {},
   "source": [
    "## 1. Three basic shapes\n",
    "\n",
    "First, we will introduce 3 basic geometry shape box, cylinder and sphere, each shape is defined as a <link> element in URDF\n",
    "\n",
    "### Open an empty environment: [empty.urdf](../empty.jupyterlab-workspace)\n",
    "\n",
    "You will see an XML file and an emtpy 3D scene on the right. Copy the following base shape tag to the xml file. Different shapes use different properties to define size. The `origin` tag is used to define the angle and position of the shape in the 3d space. You can try changing their properties and see what happens in the visualzation tab!"
   ]
  },
  {
   "cell_type": "markdown",
   "id": "d1e756e2-fbd9-4832-a412-7123f6eb5fe9",
   "metadata": {},
   "source": [
    "**Box**\n",
    "```xml\n",
    "<link name=\"box_1\">\n",
    "    <visual>\n",
    "        <geometry>\n",
    "            <box size=\"0.5 0.5 0.5\"/>\n",
    "        </geometry>\n",
    "        <origin rpy=\"0 0 0\" xyz=\"0 0 0\"/>\n",
    "    </visual>\n",
    "</link>\n",
    "```\n",
    "\n",
    "**Cylinder**\n",
    "```xml\n",
    "<link name=\"cylinder_1\">\n",
    "    <visual>\n",
    "        <geometry>\n",
    "            <cylinder length=\"1.5\" radius=\"0.1\"/>\n",
    "        </geometry>\n",
    "        <origin rpy=\"0 0 0\" xyz=\"0 0 0\"/>\n",
    "    </visual>\n",
    "</link>\n",
    "```\n",
    "\n",
    "**Sphere**\n",
    "```xml\n",
    "<link name=\"sphere_1\">\n",
    "    <visual>\n",
    "        <geometry>\n",
    "            <sphere radius=\"0.3\"/>\n",
    "        </geometry>\n",
    "        <origin rpy=\"0 0 0\" xyz=\"0 0 0\"/>\n",
    "    </visual>\n",
    "</link>\n",
    "```"
   ]
  },
  {
   "cell_type": "markdown",
   "id": "9769a85d-0412-4742-8f6c-4080c1790397",
   "metadata": {},
   "source": [
    "## 2. Create joints\n",
    "\n",
    "In the previous step we created some components in the scene, but they are not connected to each other. To enable movement and define the relationship between components(links). We need to define joints, here we will introduce two type of joint, `revolute` (rotational) joint and `prismatic` (linear sliding) joint.\n",
    "\n",
    "### A revolute joint allows rotational movement around a specified axis.\n",
    "\n",
    "* Parent link: The stationary or base link.\n",
    "* Child link: The link that moves relative to the parent.\n",
    "* Limit: Specifies the minimum and maximum rotation angles in radians.\n",
    "* Axis: Specifies the axis of rotation.\n",
    "\n",
    "**Rotational joint**\n",
    "```xml\n",
    "<joint name=\"joint_rev\" type=\"revolute\">\n",
    "    <parent link=\"cylinder_1\"/>\n",
    "    <child link=\"box_1\"/>\n",
    "    <limit lower=\"0\" upper=\"1.57\"/>\n",
    "    <axis xyz=\"0 0 1\" /> \n",
    "    <origin rpy=\"0 0 0\" xyz=\"0 0 0\"/>\n",
    "</joint>\n",
    "```\n",
    "\n",
    "The `limit` requires angles in radians, we need to convert degree to radian with the following python function.\n",
    "Once we have defined the joint, we can control the movement in the right panel of the 3D scene."
   ]
  },
  {
   "cell_type": "code",
   "execution_count": 10,
   "id": "92c49402-4a33-47de-8d53-4865fae9f521",
   "metadata": {},
   "outputs": [
    {
     "data": {
      "text/plain": [
       "2.356194490192345"
      ]
     },
     "execution_count": 10,
     "metadata": {},
     "output_type": "execute_result"
    }
   ],
   "source": [
    "import math\n",
    "math.radians(90)"
   ]
  },
  {
   "attachments": {},
   "cell_type": "markdown",
   "id": "1297e0fb-18f8-4899-8d6f-df4584899345",
   "metadata": {},
   "source": [
    "### A prismatic joint allows linear movement along a specified axis.\n",
    "\n",
    "* Limit: Sets the range of movement along the axis.\n",
    "* Axis: Defines the direction of sliding.\n",
    "\n",
    "\n",
    "**Linear sliding**\n",
    "```xml\n",
    "<joint name=\"joint_pri\" type=\"prismatic\">\n",
    "    <parent link=\"cylinder_1\"/>\n",
    "    <child link=\"sphere_1\"/>\n",
    "    <limit lower=\"-0.5\" upper=\"0.5\"/>\n",
    "    <axis xyz=\"0 0 1\" /> \n",
    "    <origin rpy=\"0 0 0\" xyz=\"0 0 0\"/>\n",
    "</joint>\n",
    "```"
   ]
  },
  {
   "cell_type": "markdown",
   "id": "b7ba6e48-747d-40a7-ba43-8882fdf5ddc5",
   "metadata": {},
   "source": [
    "## 3. Add Visual Material\n",
    "\n",
    "We can colors to a link using the <material> tag."
   ]
  },
  {
   "cell_type": "markdown",
   "id": "76a505fd-3f5a-47f6-8ecc-fe99c0243049",
   "metadata": {},
   "source": [
    "```xml\n",
    "<material name=\"yellow\">\n",
    "    <color rgba=\"0.6 0.396 0.082 1\"/>\n",
    "</material>\n",
    "```\n",
    "\n",
    "```xml\n",
    "<link name=\"sphere_1\">\n",
    "    <visual>\n",
    "        <geometry>\n",
    "            <sphere radius=\"0.3\"/>\n",
    "        </geometry>\n",
    "        <origin rpy=\"0 0 0\" xyz=\"0 0 0\"/>\n",
    "        <material name=\"yellow\"/>\n",
    "    </visual>\n",
    "</link>\n",
    "```"
   ]
  },
  {
   "cell_type": "markdown",
   "id": "0b655549-6997-4929-a0c4-9f237f7c94d4",
   "metadata": {},
   "source": [
    "## 4. Collision and Physics\n",
    "\n",
    "Up to this point, we have only defined the visual properties of the components. In URDF, physics properties provide essential details to accurately simulate how links and joints behave under physical forces.\n",
    "\n",
    "Since we are not using any physics engine in this tutorial, these properties will not take effect. This part will be covered in more detail later in the handson tutorial.\n",
    "\n",
    "Below is a simple example, comparing to the previous box component, which also defines a collision shape and the inertial property."
   ]
  },
  {
   "cell_type": "markdown",
   "id": "91e32e12-f0a1-4129-b735-558e1b55d713",
   "metadata": {},
   "source": [
    "```xml\n",
    "<link name=\"box_2\">\n",
    "    <visual>\n",
    "        <geometry>\n",
    "            <box size=\"0.5 0.5 0.5\"/>\n",
    "        </geometry>\n",
    "        <origin rpy=\"0 0 0\" xyz=\"0 0 0\"/>\n",
    "        <material name=\"door\"/>\n",
    "    </visual>\n",
    "    <collision>\n",
    "        <geometry>\n",
    "            <box size=\"0.5 0.5 0.5\"/>\n",
    "        </geometry>\n",
    "    </collision>\n",
    "    <inertial>\n",
    "        <mass value=\"10\"/>\n",
    "        <inertia ixx=\"1e-3\" ixy=\"0.0\" ixz=\"0.0\" iyy=\"1e-3\" iyz=\"0.0\" izz=\"1e-3\"/>\n",
    "    </inertial>\n",
    "</link>\n",
    "```"
   ]
  },
  {
   "cell_type": "markdown",
   "id": "58c9f3e8-b2ac-49d7-af41-b71d77296cde",
   "metadata": {},
   "source": [
    "## 5. Import complex 3d objects\n",
    "\n",
    "By importing external 3d models we are able to add more complex objects to our envrionment.\n",
    "\n",
    "```xml\n",
    "<link name=\"spoon\">\n",
    "    <visual>\n",
    "        <origin xyz=\"-1 1 0\" rpy=\"0 0 0\"/>\n",
    "        <geometry>\n",
    "            <mesh filename=\"package://iai_kitchen/meshes/racks/BoxyToolholder/Holder_Spoon.stl\" scale=\"5 5 5\"/>\n",
    "        </geometry>\n",
    "    </visual>\n",
    "</link>\n",
    "\n",
    "<link name=\"milk_box\">\n",
    "    <visual>\n",
    "        <origin xyz=\"0 1 0\" rpy=\"0 0 0\"/>\n",
    "        <geometry>\n",
    "            <mesh filename=\"/milk_box/milk_box.dae\" scale=\"5 5 5\"/>\n",
    "        </geometry>\n",
    "    </visual>\n",
    "</link>\n",
    "\n",
    "```"
   ]
  },
  {
   "cell_type": "markdown",
   "id": "e1d6764e-34f1-4cf8-9589-bbc84be49e22",
   "metadata": {},
   "source": [
    "## 6. Let's build a kitchen\n",
    "\n",
    "Xacro is a macro language for XML, with it we can define URDF fragments in different files so that we can reuse designed components. \n",
    "\n",
    "Next we will quickly build a kitchen scene with some predefine kitchen furniture URDF.\n",
    "\n",
    "### Open the kitchen scene: [kitchen.urdf.xarco](../kitchen.jupyterlab-workspace)\n",
    "\n",
    "You will see some kitchen furniture, try to arrange them in a way that makes sense. If you duplicate some components, remember to change the name of the component, each component needs to have a unique name."
   ]
  },
  {
   "cell_type": "markdown",
   "id": "bf215b34-fa14-4c8c-a706-4d929acf0cf3",
   "metadata": {},
   "source": [
    "### Kitchen Furniture List\n",
    "\n",
    "If you want to checkout the details of these components, You can find the source URDF files in the file browser on the left panel.\n",
    "\n",
    "**Table**\n",
    "\n",
    "Source File: `iai_kitchen/urdf_obj/IAI_tables.urdf.xacro`\n",
    "```xml\n",
    "<xacro:iai_table_1 name=\"table_1\" parent=\"room_link\">\n",
    "    <origin xyz=\"1.5 0.75 0\" rpy=\"0 0 ${pi/2}\" />\n",
    "</xacro:iai_table_1>\n",
    "```\n",
    "\n",
    "**Chair**\n",
    "\n",
    "Source File: `iai_kitchen/urdf_obj/IAI_tables.urdf.xacro`\n",
    "```xml\n",
    "<xacro:jokkmokk_chair name=\"chair_1\" parent=\"room_link\">\n",
    "    <origin xyz=\"1.5 -0.75 0.5535\" rpy=\"0 0 0\" />\n",
    "</xacro:jokkmokk_chair>\n",
    "```\n",
    "\n",
    "**Fridge**\n",
    "\n",
    "Source File: `iai_kitchen/urdf_obj/IAI_tables.urdf.xacro`\n",
    "```xml\n",
    "<xacro:iai_fridge_area name=\"fridge_1\" parent=\"room_link\">\n",
    "    <origin xyz=\"-1 0 0\" rpy=\"0 0 0\" />\n",
    "</xacro:iai_fridge_area>\n",
    "```\n",
    "\n",
    "**Oven**\n",
    "\n",
    "Source File: `iai_kitchen/urdf_obj/IAI_oven_area.urdf.xacro`\n",
    "```xml\n",
    "<xacro:iai_oven_area name=\"oven_1\" parent=\"room_link\">\n",
    "    <origin xyz=\"-1 -1.6 0\" rpy=\"0 0 0\" />\n",
    "</xacro:iai_oven_area>\n",
    "```\n",
    "\n",
    "**Stove**\n",
    "\n",
    "Source File: `iai_kitchen/urdf_obj/IAI_kitchen_island.urdf.xacro`\n",
    "```xml\n",
    "<xacro:iai_kitchen_island name=\"stoves_1\" parent=\"room_link\">\n",
    "    <origin xyz=\"0 0 0\" rpy=\"0 0 0\" />\n",
    "</xacro:iai_kitchen_island>\n",
    "```\n",
    "\n",
    "**Sink**\n",
    "\n",
    "Source File: `iai_kitchen/urdf_obj/sink_area.urdf.xacro`\n",
    "```xml\n",
    "<xacro:iai_sink_area name=\"sink_area\" parent=\"room_link\">\n",
    "    <origin xyz=\"0 -2.5 0\" rpy=\"0 0 0\" />\n",
    "</xacro:iai_sink_area>\n",
    "```"
   ]
  },
  {
   "cell_type": "markdown",
   "id": "7d2aa228-e342-44b4-8da5-09d610efb2e4",
   "metadata": {},
   "source": [
    "### Checkout our IAI kitchen lab Digital Twin: [iai_kitchen.urdf.xacro](./iai_kitchen.urdf.xacro)"
   ]
  },
  {
   "cell_type": "markdown",
   "id": "61489b09-d170-4675-8b86-a2814af4c6da",
   "metadata": {},
   "source": [
    "## Further Exercies"
   ]
  },
  {
   "cell_type": "markdown",
   "id": "bd93cfcd-8f9f-413c-9d62-c2ffa7238ca0",
   "metadata": {},
   "source": [
    "### ROS2 URDF Tutorial\n",
    "Fetch the tutorial materials"
   ]
  },
  {
   "cell_type": "code",
   "execution_count": null,
   "id": "7a069ab2-db50-491a-92c1-3d56c11f3ba5",
   "metadata": {},
   "outputs": [],
   "source": [
    "!git clone https://github.com/ros/urdf_tutorial.git -b ros2\n",
    "!cp urdf_tutorial/urdf/* $PWD"
   ]
  },
  {
   "cell_type": "markdown",
   "id": "9a1ce72b-83fb-48dc-9ab0-488334a3e7ef",
   "metadata": {},
   "source": [
    "|  Tutorials |  Name | URDF File (click to open file)  |\n",
    "|---|---|---|\n",
    "| [Building a visual robot model from scratch](https://docs.ros.org/en/humble/Tutorials/Intermediate/URDF/Building-a-Visual-Robot-Model-with-URDF-from-Scratch.html) | One Shape | [01-myfirst.urdf](./01-myfirst.urdf) |\n",
    "|  |  Multiple Shapes  | [02-multipleshapes.urdf](./02-multipleshapes.urdf)  |\n",
    "|   |  Origins |  [03-origins.urdf.urdf](./03-origins.urdf.urdf) |\n",
    "|   |  Material |  [04-materials.urdf](./04-materials.urdf)|\n",
    "|   |  Completed Visual Model |  [05-visual.urdf](./05-visual.urdf) |\n",
    "|  [Building a movable robot model](https://docs.ros.org/en/humble/Tutorials/Intermediate/URDF/Building-a-Movable-Robot-Model-with-URDF.html) | Movable Robot Model |  [06-flexible.urdf](./06-flexible.urdf) |\n",
    "| [Adding physical and collision properties](https://docs.ros.org/en/humble/Tutorials/Intermediate/URDF/Adding-Physical-and-Collision-Properties-to-a-URDF-Model.html) |  Physical and Collision | [07-physics.urdf](./07-physics.urdf) |\n",
    "| [Using Xacro to clean up your code](https://docs.ros.org/en/humble/Tutorials/Intermediate/URDF/Using-Xacro-to-Clean-Up-a-URDF-File.html) |  Using Xacro |   [08-macroed.urdf.xacro](./08-macroed.urdf.xacro) |"
   ]
  },
  {
   "cell_type": "code",
   "execution_count": null,
   "id": "deb73ec5-8379-412c-81a8-c1627cd95082",
   "metadata": {},
   "outputs": [],
   "source": []
  }
 ],
 "metadata": {
  "kernelspec": {
   "display_name": "Python 3 (ipykernel)",
   "language": "python",
   "name": "python3"
  },
  "language_info": {
   "codemirror_mode": {
    "name": "ipython",
    "version": 3
   },
   "file_extension": ".py",
   "mimetype": "text/x-python",
   "name": "python",
   "nbconvert_exporter": "python",
   "pygments_lexer": "ipython3",
   "version": "3.10.14"
  }
 },
 "nbformat": 4,
 "nbformat_minor": 5
}
